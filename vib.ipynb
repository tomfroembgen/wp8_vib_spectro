{
 "cells": [
  {
   "cell_type": "markdown",
   "metadata": {},
   "source": [
    "# WP8 lecture on vibrational analysis and spectroscopy\n",
    "---"
   ]
  },
  {
   "cell_type": "markdown",
   "metadata": {},
   "source": [
    "## General Setup"
   ]
  },
  {
   "cell_type": "markdown",
   "metadata": {},
   "source": [
    "### Module imports"
   ]
  },
  {
   "cell_type": "code",
   "execution_count": 1,
   "metadata": {},
   "outputs": [],
   "source": [
    "# Standard imports\n",
    "import numpy as np\n",
    "import pandas as pd\n",
    "\n",
    "# For reading and writing files and directories\n",
    "import os\n",
    "import sys\n",
    "from pathlib import Path\n",
    "\n",
    "# Plotting library\n",
    "import matplotlib as mpl\n",
    "import matplotlib.pyplot as plt\n",
    "import matplotlib.image as mpimg\n",
    "from matplotlib import style\n",
    "style.use('default')                # needed for vscode dark theme to see the axis\n",
    "\n",
    "# Fitting and peak finding\n",
    "from lmfit.models import LinearModel\n",
    "from scipy.signal import savgol_filter, find_peaks  # for peak detection"
   ]
  },
  {
   "cell_type": "markdown",
   "metadata": {},
   "source": [
    "### Figure settings"
   ]
  },
  {
   "cell_type": "code",
   "execution_count": 2,
   "metadata": {},
   "outputs": [],
   "source": [
    "# define which figure format to use\n",
    "from tkinter.font import families\n",
    "\n",
    "\n",
    "save_as_pdf = 1\n",
    "save_as_png = 1\n",
    "\n",
    "# uncomment the following line to use LaTeX fonts in the plots         \n",
    "# mpl.rc('text', usetex=True)           # needed for latex\n",
    "# mpl.rc('pgf', texsystem='pdflatex')   # change this if using xetex or luatex\n",
    "# mpl.rc('pgf', preamble=\"\\n\".join([    # load additional packages\n",
    "#        r\"\\usepackage[utf8x]{inputenc}\",\n",
    "#        r\"\\usepackage[T1]{fontenc}\",\n",
    "#        r\"\\usepackage{amsmath,amsfonts,amsthm,amssymb,amstext}\",\n",
    "#        ]))\n",
    "# mpl.rcParams['font.family'] = 'serif' # use serif/main font for text elements\n",
    "mpl.rc('pgf', rcfonts=True)           # setup fonts from rc parameters\n",
    "mpl.rc('font', size=8 )               # set font size\n",
    "mpl.rc('axes', titlesize=12)          # fontsize of the axes title\n",
    "mpl.rc('axes', titlepad=2)            # pad between axis and title\n",
    "mpl.rc('axes', labelsize=12)          # fontsize of the x and y labels\n",
    "mpl.rc('xtick', labelsize=9)          # fontsize of the tick labels\n",
    "mpl.rc('ytick', labelsize=9)          # fontsize of the tick labels\n",
    "mpl.rc('legend', fontsize=8)          # legend fontsize\n",
    "mpl.rc('figure', titlesize=10)        # fontsize of the figure title\n",
    "mpl.rc('lines', markersize=2)         # default line markersize\n",
    "mpl.rc('lines', marker=\"\")            # default line marker\n",
    "mpl.rc('grid', alpha=0.4)             # transparency of the grid\n",
    "mpl.rc('grid', color=\"gray\")          # color of the grid\n",
    "mpl.rc('grid', linewidth=0.5)         # linewidth of the grid\n",
    "mpl.rcParams['figure.constrained_layout.use'] = True\n",
    "mpl.rcParams['axes.prop_cycle'] = mpl.cycler(color=[\"k\", \"r\", \"b\", \"g\", \"orange\", \"purple\", \"dimgray\"]) # matplotlib colororder-default ändern\n",
    "mpl.rcParams['lines.linewidth'] = 1.0  # adjust default line width\n",
    "\n",
    "# width and height of tex document in inches\n",
    "# For Toms scrartcl\n",
    "# fig_width = 6.69423\n",
    "\n",
    "# For achemso Paper\n",
    "# fig_width = 6.50128\n",
    "\n",
    "# For Toms beamer\n",
    "fig_width = 4.73726\n",
    "\n",
    "# height is always the same\n",
    "fig_height = fig_width * 0.6"
   ]
  },
  {
   "cell_type": "markdown",
   "metadata": {},
   "source": [
    "### Useful Functions"
   ]
  },
  {
   "cell_type": "code",
   "execution_count": 3,
   "metadata": {},
   "outputs": [],
   "source": [
    "# define a function to save the plot as png\n",
    "def save_plot_as_png(fig, path):\n",
    "    if save_as_png == 1:\n",
    "        fig.savefig(path, format=\"png\")\n",
    "    \n",
    "# define a function to save the plot as pdf\n",
    "def save_plot_as_pdf(fig, path):\n",
    "    if save_as_pdf == 1:\n",
    "        fig.savefig(path, format=\"pdf\")\n",
    "\n",
    "# define a function that reads in a path and a regex and returns a list of files that match the regex\n",
    "def getFileList(path, regex):\n",
    "    filelist = []\n",
    "    for file in sorted(Path(path).rglob(regex)):\n",
    "        filelist.append(file)\n",
    "\n",
    "    if len(filelist) == 0:\n",
    "        sys.exit(\"No '*data' files found.\")\n",
    "\n",
    "    return filelist\n",
    "\n",
    "# some useful constants\n",
    "eh2kcal = 627.503 # kcal/mol\n",
    "ev2kcal = 23.0609 # kcal/mol\n",
    "eh2kj = 2625.5 # kj/mol\n",
    "ev2kj = 96.4869 # kj/mol\n",
    "eh2ev = 27.2107 # electronvolt\n",
    "ev2eh = 0.0367502 # hartree\n",
    "eh2j = 43.60E-19 # Joule\n",
    "kb = 1.38064852E-23 # Boltzmann constant\n",
    "na = 6.02214076E23 # Avogadro constant"
   ]
  },
  {
   "cell_type": "markdown",
   "metadata": {},
   "source": [
    "## Some fancy figures"
   ]
  },
  {
   "cell_type": "code",
   "execution_count": 43,
   "metadata": {},
   "outputs": [
    {
     "data": {
      "image/png": "[encoded data removed]",
      "text/plain": [
       "<Figure size 331.608x284.236 with 1 Axes>"
      ]
     },
     "metadata": {},
     "output_type": "display_data"
    }
   ],
   "source": [
    "from turtle import color\n",
    "\n",
    "\n",
    "fig = plt.figure(figsize=(0.7*fig_width, fig_height))\n",
    "\n",
    "spec = fig.add_gridspec(1,1)\n",
    "ax0 = fig.add_subplot(spec[0,0])\n",
    "\n",
    "# array for x values of parabola with origin at (1,0)\n",
    "xvals = np.linspace(0,4,100)\n",
    "re = 1.0\n",
    "alpha = 2.0\n",
    "\n",
    "plt.plot(xvals, 4*(xvals-re)**2, label=\"Harmonic potential\", color=\"r\")\n",
    "plt.plot(xvals, (1-np.exp(-alpha*(xvals-re)))**2 , label=\"Morse potential\", color=\"b\")\n",
    "ax0.hlines(1, 0, 4, linestyles=\"dashed\")\n",
    "\n",
    "ax0.set_xlim(0,4)\n",
    "ax0.set_ylim(0,1.5)\n",
    "ax0.set_xlabel(\"Internuclear distance / $r_\\mathrm{e}$\")\n",
    "ax0.set_ylabel(\"Energy / $D_\\mathrm{e}$\")\n",
    "ax0.legend()\n",
    "\n",
    "save_plot_as_pdf(fig, \"potential.pdf\")"
   ]
  },
  {
   "cell_type": "code",
   "execution_count": null,
   "metadata": {},
   "outputs": [],
   "source": []
  }
 ],
 "metadata": {
  "interpreter": {
   "hash": "59272510165099cd6301741da131f29f4f2689cc100f0574d4be9b8311d49a7f"
  },
  "kernelspec": {
   "display_name": "Python 3.10.4 ('base')",
   "language": "python",
   "name": "python3"
  },
  "language_info": {
   "codemirror_mode": {
    "name": "ipython",
    "version": 3
   },
   "file_extension": ".py",
   "mimetype": "text/x-python",
   "name": "python",
   "nbconvert_exporter": "python",
   "pygments_lexer": "ipython3",
   "version": "3.10.4"
  }
 },
 "nbformat": 4,
 "nbformat_minor": 2
}
